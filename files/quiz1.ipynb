{
 "cells": [
  {
   "cell_type": "markdown",
   "id": "77506aae",
   "metadata": {},
   "source": [
    "<br>\n",
    "\n",
    "### **Quiz 1 (9/15, Mon)**\n",
    "\n",
    "(각 문제의 바로 아래에 있는 Python shell에 답안을 작성하여 실행한 결과가 나오도록 할 것.)"
   ]
  },
  {
   "cell_type": "markdown",
   "id": "38d945b0",
   "metadata": {},
   "source": [
    "* 이름: \n",
    "\n",
    "* 학번: \n",
    "\n",
    "<br>"
   ]
  },
  {
   "cell_type": "markdown",
   "id": "3fd0673c",
   "metadata": {},
   "source": [
    "<br>\n",
    "\n",
    "**Q1.** Define Numpy arrays `A`, `B`, and `C` as the following:\n",
    "\n",
    "1) Define `A` as a $4\\times4$ matrix that contains random numbers from the standard normal distribution.\n",
    "\n",
    "(*Hint:* You can draw 25 random numbers and define a matrix with them.)\n",
    "\n",
    "2) Define `B` as a $4\\times4$ matrix of which all elements are 1: $$ B = \\begin{pmatrix} 1 & 1 & 1 & 1 \\\\ 1 & 1 & 1 & 1 \\\\ 1 & 1 & 1 & 1 \\\\ 1 & 1 & 1 & 1 \\end{pmatrix} $$\n",
    "\n",
    "3) Define `C` as a $4\\times4$ identity matrix multiplied by 2: $$ C = \\begin{pmatrix} 2 & 0 & 0 & 0 \\\\ 0 & 2 & 0 & 0 \\\\ 0 & 0 & 2 & 0 \\\\ 0 & 0 & 0 & 2 \\end{pmatrix} $$\n",
    "\n",
    "\n",
    "Now, calculate the following: $(A \\times B) + C$"
   ]
  },
  {
   "cell_type": "code",
   "execution_count": null,
   "id": "dbdc85ef",
   "metadata": {},
   "outputs": [],
   "source": []
  },
  {
   "cell_type": "markdown",
   "id": "2786ca63",
   "metadata": {},
   "source": [
    "<br>\n",
    "\n",
    "**Q2.** Define Numpy arrays `A` and `B` that are created by the following two Python lists:\n",
    "\n",
    "```\n",
    "a = [1,2,3,2,3,4,3,4,5,6]\n",
    "b = [7,2,10,2,7,4,9,4,9,8]\n",
    "```\n",
    "\n",
    "Then, find the positions where elements of `A` and `B` match.\n",
    "\n",
    "(*Hint:* You can use Numpy function `where`.)"
   ]
  },
  {
   "cell_type": "code",
   "execution_count": null,
   "id": "eed383d7",
   "metadata": {},
   "outputs": [],
   "source": []
  },
  {
   "cell_type": "markdown",
   "id": "c835afcb",
   "metadata": {},
   "source": [
    "<br>\n",
    "\n",
    "**Q3.** Consider the polynomial\n",
    "\n",
    "$$\n",
    "p(x)\n",
    "= a_0 + a_1 x + a_2 x^2 + \\cdots a_n x^n\n",
    "= \\sum_{i=0}^n a_i x^i \\tag{1}\n",
    "$$\n",
    "\n",
    "Write a function `p` such that `p(x, coeff)` that computes the value in equation (1) given value `x` and a list of coefficients `coeff`.\n",
    "\n",
    "(*Hint:* You can use `enumerate()` in your loop.)\n",
    "\n",
    "\n",
    "Using your function, calculate $p(2.58)$ where $a_0=5.8,~ a_1=11.4,~ a_2=8.9,~ a_3=1.7,~a_4=-21.6$."
   ]
  },
  {
   "cell_type": "code",
   "execution_count": null,
   "id": "ebc8db94",
   "metadata": {},
   "outputs": [],
   "source": []
  }
 ],
 "metadata": {
  "kernelspec": {
   "display_name": "base",
   "language": "python",
   "name": "python3"
  },
  "language_info": {
   "codemirror_mode": {
    "name": "ipython",
    "version": 3
   },
   "file_extension": ".py",
   "mimetype": "text/x-python",
   "name": "python",
   "nbconvert_exporter": "python",
   "pygments_lexer": "ipython3",
   "version": "3.9.12"
  }
 },
 "nbformat": 4,
 "nbformat_minor": 5
}
